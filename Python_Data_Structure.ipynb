{
  "nbformat": 4,
  "nbformat_minor": 0,
  "metadata": {
    "colab": {
      "provenance": []
    },
    "kernelspec": {
      "name": "python3",
      "display_name": "Python 3"
    },
    "language_info": {
      "name": "python"
    }
  },
  "cells": [
    {
      "cell_type": "markdown",
      "source": [
        "# *Python Data Structure- Module 4* *(Theory)*"
      ],
      "metadata": {
        "id": "aueREjsjUdX8"
      }
    },
    {
      "cell_type": "markdown",
      "source": [
        "1.\tWhat are data structures, and why are they important?\n",
        "\n",
        "  Ans: Data structures are ways of organizing, managing, and storing data so that it can be accessed and modified efficiently. They define the layout for how data is stored and provide operations for processing that data. In Python data structure can be built-in and User-defined.\n",
        "\n",
        "  Data Structures are important as-\n",
        "\n",
        "  Efficient Data Handling: They help store and manage data easily.\n",
        "\n",
        "  Better Performance: The right structure makes your code faster and more memory-efficient.\n",
        "\n",
        "  Cleaner Code: Built-in structures like lists and dicts make code easier to write and understand.\n",
        "\n",
        "  Solves Complex Problems: Advanced structures like trees or graphs are key for tasks like searching or routing.\n",
        "\n",
        "  Supports Algorithms: Algorithms rely on data structures. Picking the right one makes them work better."
      ],
      "metadata": {
        "id": "nhkKlisoUeuh"
      }
    },
    {
      "cell_type": "markdown",
      "source": [
        "2. Explain the difference between mutable and immutable data types with examples.\n",
        "\n",
        "  Ans: Mutable data types can be changed after creation — you can modify their content without changing their identity. Whereas, Immutable data types cannot be changed after creation — any modification creates a new object.\n",
        "\n",
        "  Example of Mutable Data type:\n",
        "\n",
        "  a= [2,4,6,8]\n",
        "\n",
        "  a[1]= 5\n",
        "\n",
        "  a (ctrl+Enter)\n",
        "\n",
        "  [2, 5, 6, 8]\n",
        "\n",
        "  Example of Immutable Data type:\n",
        "\n",
        "  b=(\"Sweta\", \"Singh\")\n",
        "\n",
        "  b[0]= \"Singh\"(ctrl+enter)\n",
        "\n",
        "  TypeError Traceback (most recent call last) /tmp/ipython-input-2-4023210974.py in <cell line: 0>()\n",
        "\n",
        "  1 b=(\"Sweta\", \"Singh\")\n",
        "\n",
        "  ----> 2 b[0]= \"Singh\"\n",
        "\n",
        "  TypeError: 'tuple' object does not support item assignment\n",
        "\n",
        "  It’ll throw error as element into “Tuple” cannot get changed."
      ],
      "metadata": {
        "id": "LeMBzD24Vk0f"
      }
    },
    {
      "cell_type": "markdown",
      "source": [
        "3. What are the main differences between lists and tuples in Python?\n",
        "\n",
        "  Ans: **The main differences between lists and tuples in Python are:**\n",
        "\n",
        "    \n",
        "\n",
        "*   Mutability: Lists are mutable (can be changed), tuples are immutable (cannot be changed).\n",
        "*   Syntax: Lists use square brackets [], tuples use parentheses ().\n",
        "\n",
        "\n",
        "*   Methods: Lists have more built-in methods (e.g., append(), remove()), tuples have fewer.\n",
        "*   Performance: Tuples are faster and use less memory than lists.\n",
        "\n",
        "*   Use Case: Use lists for modifiable data, and tuples for fixed or read-only data.\n",
        "\n",
        "\n",
        "\n",
        "\n",
        "\n",
        "\n",
        "\n",
        "\n",
        "\n"
      ],
      "metadata": {
        "id": "8xV9jKMJV1yX"
      }
    },
    {
      "cell_type": "markdown",
      "source": [
        "4. Describe how dictionaries store data.\n",
        "\n",
        "  Ans: In Python, dictionaries store data as key-value pairs. Each key maps to a specific value, and this mapping is stored in an efficient structure called a hash table. Keys must be unique and immutable (e.g., strings, numbers, tuples)and Values can be of any data type and can repeat.\n",
        "\n"
      ],
      "metadata": {
        "id": "WcDAVTSiW29d"
      }
    },
    {
      "cell_type": "markdown",
      "source": [
        "5. Why might you use a set instead of a list in Python?\n",
        "\n",
        "  Ans: **You might use a set instead of a list in Python 3 for these main reasons:**\n",
        "\n",
        "*   No Duplicates Allowed-  \n",
        "Sets automatically remove duplicate values.\n",
        "\n",
        "\n",
        "*  Faster Membership Testing-  \n",
        "\n",
        "  Checking if an item exists in a set is much faster (average O(1)) than in a list (O(n)).\n",
        "\n",
        "*  Unordered Collection-   \n",
        "If order doesn't matter and you only care about unique items, a set is more efficient.\n",
        "\n",
        "\n",
        "\n",
        "\n",
        "\n",
        "\n"
      ],
      "metadata": {
        "id": "pBMxV8qJXrVL"
      }
    },
    {
      "cell_type": "markdown",
      "source": [
        "6. What is a string in Python, and how is it different from a list?\n",
        "\n",
        "  Ans: A string in Python is a sequence of characters, used to represent text. It's defined using quotes.\n",
        "  \n",
        "  e.g - \"Hello\"\n",
        "\n",
        "  String is different than list in many ways. Such as -\n",
        "\n",
        "\n",
        "\n",
        "*   Data Type: A string hold only characters, whereas a list can hold any data type.\n",
        "*   Mutability: Strings are immutable but lists are mutable.\n",
        "\n",
        "\n",
        "*   Syntax: Strings use quotes: \"hello\" but Lists use square brackets: ['h', 'e', 'l', 'l', 'o'].\n",
        "\n",
        "\n",
        "\n"
      ],
      "metadata": {
        "id": "hYGgRvQAYcqh"
      }
    },
    {
      "cell_type": "markdown",
      "source": [
        "7. How do tuples ensure data integrity in Python?\n",
        "\n",
        "  Ans: Tuples ensure data integrity in Python by being immutable, meaning their values cannot be changed after creation. This helps protect data from accidental modification."
      ],
      "metadata": {
        "id": "99pFPWl9epnt"
      }
    },
    {
      "cell_type": "markdown",
      "source": [
        "8. What is a hash table, and how does it relate to dictionaries in Python?\n",
        "\n",
        "  Ans: A hash table is a data structure that stores key-value pairs and allows for fast access, insertion, and deletion of data. It uses a hash function to compute an index (also called a hash code) into an array of buckets or slots, from which the desired value can be found.\n",
        "\n",
        "  In Python, a dictionary (dict) is a fast and efficient way to store key-value pairs because it uses a hash table internally. Each key is processed using the built-in hash() function, which generates a number that determines where the value is stored in memory. This allows for quick access, insertion, and deletion—usually in constant time. However, only immutable types like strings, numbers, or tuples with unchangeable contents can be used as keys, because they need to be hashable."
      ],
      "metadata": {
        "id": "ja-nlla3e9jb"
      }
    },
    {
      "cell_type": "markdown",
      "source": [
        "9. Can lists contain different data types in Python?\n",
        "\n",
        "  Ans: Yes, lists in Python can contain different data types. A single list can hold a mix of integers, strings, floats, other lists, or even custom objects. For example-\n",
        "\n",
        "  My_List= [1, 2, 10,45, \"Hello\", False]"
      ],
      "metadata": {
        "id": "7lXGrQP180op"
      }
    },
    {
      "cell_type": "markdown",
      "source": [
        "10.  Explain why strings are immutable in Python.\n",
        "\n",
        "  Ans: Strings are made immutable in Python to ensure they are safe, fast, and reliable. Because their content cannot change, strings can be safely used as keys in dictionaries and elements in sets, which require values that stay the same (hashable). Also, it makes code more predictable and less error-prone, as you don’t have to worry about a string being accidentally changed somewhere else in your program."
      ],
      "metadata": {
        "id": "Xc1x5rMK-JPw"
      }
    },
    {
      "cell_type": "markdown",
      "source": [
        "11. What advantages do dictionaries offer over lists for certain tasks?\n",
        "\n",
        "  Ans: Dictionaries offer several advantages over lists for certain tasks in Python -\n",
        "\n",
        "*   Key-Value Pairing: Dictionaries store data in key-value pairs, making it easier to organize and understand related data (e.g., a person's name and age).\n",
        "*   More Readable Code: You can access values using meaningful keys (like person[\"name\"]) instead of remembering positions like person[0] in a list.\n",
        "\n",
        "\n",
        "*   Faster Lookups: Dictionaries allow you to access values by keys in constant time, while lists require a search through elements.\n",
        "*  Automatic Uniqueness: Dictionary keys are always unique, which helps avoid duplication errors.\n",
        "\n",
        "*   Ideal for Mappings: When you need to map one set of values to another (e.g., student IDs to names), dictionaries are more efficient and intuitive than lists.\n",
        "\n",
        "\n",
        "\n",
        "\n",
        "\n"
      ],
      "metadata": {
        "id": "0sLZPzQX_SR8"
      }
    },
    {
      "cell_type": "markdown",
      "source": [
        "12.  Describe a scenario where using a tuple would be preferable over a list.\n",
        "\n",
        "  Ans:  A tuple is preferable over a list when you want to store a fixed set of values that are not meant to change throughout the program. Tuples are immutable, meaning once they are created, their contents cannot be modified. This makes them useful for storing constant data like dates, coordinates, or configuration settings, where accidental changes should be avoided. Using tuples also signals to other programmers that the data is read-only, improving code clarity and safety. Additionally, tuples are faster and more memory-efficient than lists, making them a good choice when performance matters and the data is static."
      ],
      "metadata": {
        "id": "yxiucR9HEsZJ"
      }
    },
    {
      "cell_type": "markdown",
      "source": [
        "13. How do sets handle duplicate values in Python?\n",
        "\n",
        "  Ans: In Python, sets are designed to store only unique values, which means they automatically remove any duplicates. When you create a set or add elements to it, Python checks each item and ensures that only one instance of each value is kept.This behavior makes sets ideal for situations where you want to eliminate duplicates from a collection or ensure that all elements are distinct, such as finding unique words in a text or filtering repeated entries from a list."
      ],
      "metadata": {
        "id": "grFwvHRpF_c0"
      }
    },
    {
      "cell_type": "markdown",
      "source": [
        "14. How does the “in” keyword work differently for lists and dictionaries?\n",
        "\n",
        "  Ans: n a list, the in keyword checks whether a specific value exists in the list by scanning each element one by one. For example, 'apple' in ['apple', 'banana'] returns True because the value 'apple' is present.\n",
        "\n",
        "  In a dictionary, the in keyword checks whether a specific key exists, not the value. For example, 'name' in {'name': 'Alice', 'age': 25} returns True, but 'Alice' in {'name': 'Alice', 'age': 25} returns False because 'Alice' is a value, not a key."
      ],
      "metadata": {
        "id": "0NhMaAi6HgeL"
      }
    },
    {
      "cell_type": "markdown",
      "source": [
        "15. Can you modify the elements of a tuple? Explain why or why not?\n",
        "\n",
        "  Ans: No, you cannot modify the elements of a tuple in Python. This is because tuples are immutable, meaning their contents cannot be changed after they are created. Once a tuple is defined, you cannot- Change an element, add new elements or remove an element.\n",
        "\n",
        "  This immutability is intentional—it helps ensure data integrity, makes tuples hashable (so they can be used as dictionary keys or set elements), and allows for better performance and memory efficiency compared to lists.\n"
      ],
      "metadata": {
        "id": "tWK0qZ8OLPnI"
      }
    },
    {
      "cell_type": "markdown",
      "source": [
        "16. What is a nested dictionary, and give an example of its use case?\n",
        "\n",
        "  Ans: A nested dictionary in Python is a dictionary inside another dictionary. It allows you to store structured or hierarchical data, where each key maps to another dictionary as its value. For example:\n",
        "\n",
        "\n",
        "    student = {\n",
        "\n",
        "      \"name\": \"Henry\",\n",
        "      \"grades\": {\n",
        "          \"math\": 90,\n",
        "          \"science\": 85,\n",
        "          \"english\": 88\n",
        "       },\n",
        "      \"age\": 16\n",
        "    }\n",
        "\n",
        "  \n",
        "  Use Case:\n",
        "\n",
        "  Nested dictionaries are useful when you want to represent complex data structures like: A student's profile with subjects and grades, Employee records with department info e.t.c. They help organize related data in a clear, logical format, making it easier to access and manage. For instance, to get Henry’s math grade -\n",
        "\n",
        "      print(student[\"grades\"][\"math\"]) # The output will be 90"
      ],
      "metadata": {
        "id": "V3uHLFXlMmdj"
      }
    },
    {
      "cell_type": "markdown",
      "source": [
        "17. Describe the time complexity of accessing elements in a dictionary.\n",
        "\n",
        "  Ans: The time complexity of accessing elements in a dictionary in Python is O(1) on average, which means it takes constant time regardless of the size of the dictionary. Python dictionaries are implemented using hash tables. When you access a value using a key -\n",
        "\n",
        "*   The key is hashed using the hash() function.\n",
        "\n",
        "*   The hash value is used to directly locate the value in memory.\n",
        "\n"
      ],
      "metadata": {
        "id": "nydeTG-1QbNS"
      }
    },
    {
      "cell_type": "markdown",
      "source": [
        "18. In what situations are lists preferred over dictionaries?\n",
        "\n",
        "  Ans: Lists are better than dictionaries in these situations -\n",
        "\n",
        "*   When the order of items matters (like steps in a process).\n",
        "*   When you just need a simple collection of values (like a list of names).\n",
        "\n",
        "*   When you want to allow duplicates.\n",
        "*   When you want to access items by their position (index), like my_list[0].\n",
        "\n",
        "*   When the data is small and doesn’t need labels or keys.\n",
        "\n",
        "\n",
        "\n",
        "\n",
        "\n"
      ],
      "metadata": {
        "id": "yBEvDUEDWFPZ"
      }
    },
    {
      "cell_type": "markdown",
      "source": [
        "19. Why are dictionaries considered unordered, and how does that affect data retrieval?\n",
        "\n",
        "  Ans: Dictionaries were once considered unordered because, before Python 3.7, they didn’t keep the order in which items were added. Now, from Python 3.7 onward, they do keep that order, but they are still mainly used for fast access by key, not for handling order like a list.\n",
        "\n",
        "  How it affects data retrieval:\n",
        "\n",
        "\n",
        "*   You can quickly get a value if you know the key.\n",
        "*   But you can’t get items by position (like first or last) as easily as you can with a list.\n",
        "\n",
        "\n"
      ],
      "metadata": {
        "id": "wL0l9XM4W0lb"
      }
    },
    {
      "cell_type": "markdown",
      "source": [
        "20.  Explain the difference between a list and a dictionary in terms of data retrieval.\n",
        "\n",
        "  Ans: The main difference between a list and a dictionary in terms of data retrieval is how you access the data -\n",
        "\n",
        "\n",
        "*   List: You retrieve data using a numeric index. The position matters, and items are accessed like my_list[0]. For Example -\n",
        "      my_list = ['apple', 'banana', 'cherry']\n",
        "\n",
        "      print(my_list[1])  # Output: banana\n",
        "\n",
        "*   Dictionary: You retrieve data using a unique key. The position doesn't matter, and items are accessed like my_dict['fruit'].\n",
        "For Example -\n",
        "      my_dict = {'fruit': 'banana', 'color': 'yellow'}\n",
        "\n",
        "      print(my_dict['fruit'])  # Output: banana  \n",
        "\n"
      ],
      "metadata": {
        "id": "IJoSrnJfXeTj"
      }
    },
    {
      "cell_type": "markdown",
      "source": [
        "# ***Practical***"
      ],
      "metadata": {
        "id": "9UGptipK0ykY"
      }
    },
    {
      "cell_type": "markdown",
      "source": [
        "1. Write a code to create a string with your name and print it."
      ],
      "metadata": {
        "id": "WZrpv23v1kgB"
      }
    },
    {
      "cell_type": "code",
      "source": [
        "Name = \"Sweta Singh\"\n",
        "print (Name)"
      ],
      "metadata": {
        "id": "bXzKiuLsN4pX",
        "colab": {
          "base_uri": "https://localhost:8080/"
        },
        "outputId": "811da107-285f-400e-987d-d7b6bc63ceb8"
      },
      "execution_count": 1,
      "outputs": [
        {
          "output_type": "stream",
          "name": "stdout",
          "text": [
            "Sweta Singh\n"
          ]
        }
      ]
    },
    {
      "cell_type": "markdown",
      "source": [
        "2. Write a code to find the length of the string \"Hello World\"."
      ],
      "metadata": {
        "id": "HWJATanM6Hr8"
      }
    },
    {
      "cell_type": "code",
      "source": [
        "x = \"Hello World\"\n",
        "len(x)"
      ],
      "metadata": {
        "colab": {
          "base_uri": "https://localhost:8080/"
        },
        "id": "nDDO6Q7OrVmj",
        "outputId": "e7d3ad19-bbb3-4c5f-99df-43d221ad050f"
      },
      "execution_count": 2,
      "outputs": [
        {
          "output_type": "execute_result",
          "data": {
            "text/plain": [
              "11"
            ]
          },
          "metadata": {},
          "execution_count": 2
        }
      ]
    },
    {
      "cell_type": "markdown",
      "source": [
        "3. Write a code to slice the first 3 characters from the string \"Python Programming\"."
      ],
      "metadata": {
        "id": "xvwtlVIP6R11"
      }
    },
    {
      "cell_type": "code",
      "source": [
        "y = \"Python Programming\"\n",
        "y[:3]"
      ],
      "metadata": {
        "colab": {
          "base_uri": "https://localhost:8080/",
          "height": 36
        },
        "id": "9HCrb_Hr6TPI",
        "outputId": "e0f776a5-7f59-4a37-bc31-d1f0b6a09e04"
      },
      "execution_count": 4,
      "outputs": [
        {
          "output_type": "execute_result",
          "data": {
            "text/plain": [
              "'Pyt'"
            ],
            "application/vnd.google.colaboratory.intrinsic+json": {
              "type": "string"
            }
          },
          "metadata": {},
          "execution_count": 4
        }
      ]
    },
    {
      "cell_type": "markdown",
      "source": [
        "4. Write a code to convert the string \"hello\" to uppercase."
      ],
      "metadata": {
        "id": "04kdKXaV6dH2"
      }
    },
    {
      "cell_type": "code",
      "source": [
        "a = \"hello\"\n",
        "a.upper()"
      ],
      "metadata": {
        "colab": {
          "base_uri": "https://localhost:8080/",
          "height": 36
        },
        "id": "ObR-5A8W6aig",
        "outputId": "4fcf9513-72a6-4787-dab6-95121513ae0a"
      },
      "execution_count": 5,
      "outputs": [
        {
          "output_type": "execute_result",
          "data": {
            "text/plain": [
              "'HELLO'"
            ],
            "application/vnd.google.colaboratory.intrinsic+json": {
              "type": "string"
            }
          },
          "metadata": {},
          "execution_count": 5
        }
      ]
    },
    {
      "cell_type": "markdown",
      "source": [
        "5. Write a code to replace the word \"apple\" with \"orange\" in the string \"I like apple\"."
      ],
      "metadata": {
        "id": "-Jc8LtUF6tsI"
      }
    },
    {
      "cell_type": "code",
      "source": [
        "x = \"I like apple\"\n",
        "x.replace(\"apple\", \"orange\")"
      ],
      "metadata": {
        "colab": {
          "base_uri": "https://localhost:8080/",
          "height": 36
        },
        "id": "jUiXPaw56sqz",
        "outputId": "2e264eaf-0446-40a8-d88e-f7722f684b6d"
      },
      "execution_count": 6,
      "outputs": [
        {
          "output_type": "execute_result",
          "data": {
            "text/plain": [
              "'I like orange'"
            ],
            "application/vnd.google.colaboratory.intrinsic+json": {
              "type": "string"
            }
          },
          "metadata": {},
          "execution_count": 6
        }
      ]
    },
    {
      "cell_type": "markdown",
      "source": [
        "6. Write a code to create a list with numbers 1 to 5 and print it."
      ],
      "metadata": {
        "id": "zhVJQuO364s1"
      }
    },
    {
      "cell_type": "code",
      "source": [
        "y = [1,2,3,4,5]\n",
        "print(y)"
      ],
      "metadata": {
        "colab": {
          "base_uri": "https://localhost:8080/"
        },
        "id": "8FW89VZR63Y6",
        "outputId": "6a258993-bbe3-4c6e-a271-18509634e3ec"
      },
      "execution_count": 7,
      "outputs": [
        {
          "output_type": "stream",
          "name": "stdout",
          "text": [
            "[1, 2, 3, 4, 5]\n"
          ]
        }
      ]
    },
    {
      "cell_type": "markdown",
      "source": [
        "7. Write a code to append the number 10 to the list [1, 2, 3, 4]"
      ],
      "metadata": {
        "id": "RWWgMxax7GgG"
      }
    },
    {
      "cell_type": "code",
      "source": [
        "a = [1,2,3,4]\n",
        "a.append(10)\n",
        "print(a)"
      ],
      "metadata": {
        "colab": {
          "base_uri": "https://localhost:8080/"
        },
        "id": "OLQwu6Ci69e3",
        "outputId": "156d7437-1f12-46d2-b233-21cd30e699f2"
      },
      "execution_count": 8,
      "outputs": [
        {
          "output_type": "stream",
          "name": "stdout",
          "text": [
            "[1, 2, 3, 4, 10]\n"
          ]
        }
      ]
    },
    {
      "cell_type": "markdown",
      "source": [
        "8. Write a code to remove the number 3 from the list [1, 2, 3, 4, 5]."
      ],
      "metadata": {
        "id": "KUCIjcd97LnU"
      }
    },
    {
      "cell_type": "code",
      "source": [
        "b = [1,2,3,4,5]\n",
        "b.remove(3)\n",
        "print(b)"
      ],
      "metadata": {
        "colab": {
          "base_uri": "https://localhost:8080/"
        },
        "id": "iqHS0YQb7KVJ",
        "outputId": "85e7c00e-6fbe-493f-a4ba-0b628403e14e"
      },
      "execution_count": 9,
      "outputs": [
        {
          "output_type": "stream",
          "name": "stdout",
          "text": [
            "[1, 2, 4, 5]\n"
          ]
        }
      ]
    },
    {
      "cell_type": "markdown",
      "source": [
        "9. Write a code to access the second element in the list ['a', 'b', 'c', 'd']."
      ],
      "metadata": {
        "id": "Dgrq9mCy7TfG"
      }
    },
    {
      "cell_type": "code",
      "source": [
        "a = [\"a\",\"b\",\"c\",\"d\"]\n",
        "P = a[1]\n",
        "print(P)"
      ],
      "metadata": {
        "colab": {
          "base_uri": "https://localhost:8080/"
        },
        "id": "Ltd3UtDt7Qf8",
        "outputId": "81b4c8b4-918f-4c9c-94a4-bc75a60be8e7"
      },
      "execution_count": 10,
      "outputs": [
        {
          "output_type": "stream",
          "name": "stdout",
          "text": [
            "b\n"
          ]
        }
      ]
    },
    {
      "cell_type": "markdown",
      "source": [
        "10. Write a code to reverse the list [10, 20, 30, 40, 50]."
      ],
      "metadata": {
        "id": "dYFjWEgv9ahN"
      }
    },
    {
      "cell_type": "code",
      "source": [
        "x = [10,20,30,40,50]\n",
        "x.reverse()\n",
        "print(x)"
      ],
      "metadata": {
        "colab": {
          "base_uri": "https://localhost:8080/"
        },
        "id": "JyjbNeCp7ZwH",
        "outputId": "3c3ee417-0c03-422d-ff46-7a29b9ce3f48"
      },
      "execution_count": 11,
      "outputs": [
        {
          "output_type": "stream",
          "name": "stdout",
          "text": [
            "[50, 40, 30, 20, 10]\n"
          ]
        }
      ]
    },
    {
      "cell_type": "markdown",
      "source": [
        "11. Write a code to create a tuple with the elements 100, 200, 300 and print it."
      ],
      "metadata": {
        "id": "0-PwiwJf9gI3"
      }
    },
    {
      "cell_type": "code",
      "source": [
        "b = (100,200,300)\n",
        "print(b)"
      ],
      "metadata": {
        "colab": {
          "base_uri": "https://localhost:8080/"
        },
        "id": "fAaSqaJa9d2b",
        "outputId": "e428c20a-01f1-4c40-c796-fc53ddcbf862"
      },
      "execution_count": 12,
      "outputs": [
        {
          "output_type": "stream",
          "name": "stdout",
          "text": [
            "(100, 200, 300)\n"
          ]
        }
      ]
    },
    {
      "cell_type": "markdown",
      "source": [
        "12. Write a code to access the second-to-last element of the tuple ('red', 'green', 'blue', 'yellow')."
      ],
      "metadata": {
        "id": "12qivxqO9m8M"
      }
    },
    {
      "cell_type": "code",
      "source": [
        "v = ('red', 'green', 'blue', 'yellow')\n",
        "print(v[-2])"
      ],
      "metadata": {
        "colab": {
          "base_uri": "https://localhost:8080/"
        },
        "id": "T4fp8eUk9mSF",
        "outputId": "f65f5f4c-30c7-4216-d8f9-f1723fd645a2"
      },
      "execution_count": 13,
      "outputs": [
        {
          "output_type": "stream",
          "name": "stdout",
          "text": [
            "blue\n"
          ]
        }
      ]
    },
    {
      "cell_type": "markdown",
      "source": [
        "13. Write a code to find the minimum number in the tuple (10, 20, 5, 15)."
      ],
      "metadata": {
        "id": "SqaldeJj9vlI"
      }
    },
    {
      "cell_type": "code",
      "source": [
        "g = (10,20,5,15)\n",
        "print(min(g))"
      ],
      "metadata": {
        "colab": {
          "base_uri": "https://localhost:8080/"
        },
        "id": "UGxbbW779uZL",
        "outputId": "0b68e673-77d9-4ac1-b512-2c7c5c3258f4"
      },
      "execution_count": 14,
      "outputs": [
        {
          "output_type": "stream",
          "name": "stdout",
          "text": [
            "5\n"
          ]
        }
      ]
    },
    {
      "cell_type": "markdown",
      "source": [
        "14. Write a code to find the index of the element \"cat\" in the tuple ('dog', 'cat', 'rabbit')."
      ],
      "metadata": {
        "id": "LSRrfIuz977Z"
      }
    },
    {
      "cell_type": "code",
      "source": [
        "g = ('dog', 'cat', 'rabbit')\n",
        "print(g.index(\"cat\"))"
      ],
      "metadata": {
        "colab": {
          "base_uri": "https://localhost:8080/"
        },
        "id": "Zs1hz57d95cX",
        "outputId": "2d9615ef-8ced-4d33-ffc9-cb32ce77042e"
      },
      "execution_count": 15,
      "outputs": [
        {
          "output_type": "stream",
          "name": "stdout",
          "text": [
            "1\n"
          ]
        }
      ]
    },
    {
      "cell_type": "markdown",
      "source": [
        "15. Write a code to create a tuple containing three different fruits and check if \"kiwi\" is in it."
      ],
      "metadata": {
        "id": "UHsSOmFn-Kq5"
      }
    },
    {
      "cell_type": "code",
      "source": [
        "a = (\"mango\", \"kiwi\", \"banana\")\n",
        "\"kiwi\" in a"
      ],
      "metadata": {
        "colab": {
          "base_uri": "https://localhost:8080/"
        },
        "id": "imdtRD_I-JcW",
        "outputId": "ea5b445e-22c8-410e-baf1-ac5949ef1624"
      },
      "execution_count": 16,
      "outputs": [
        {
          "output_type": "execute_result",
          "data": {
            "text/plain": [
              "True"
            ]
          },
          "metadata": {},
          "execution_count": 16
        }
      ]
    },
    {
      "cell_type": "markdown",
      "source": [
        "16. Write a code to create a set with the elements 'a', 'b', 'c' and print it."
      ],
      "metadata": {
        "id": "m1gSZkcD-QWN"
      }
    },
    {
      "cell_type": "code",
      "source": [
        "A = {\"a\",\"b\",\"c\"}\n",
        "print(A)"
      ],
      "metadata": {
        "colab": {
          "base_uri": "https://localhost:8080/"
        },
        "id": "Qaj1wxR--PhD",
        "outputId": "54f16a59-88d9-455c-ad70-59bb970aed79"
      },
      "execution_count": 20,
      "outputs": [
        {
          "output_type": "stream",
          "name": "stdout",
          "text": [
            "{'c', 'a', 'b'}\n"
          ]
        }
      ]
    },
    {
      "cell_type": "markdown",
      "source": [
        "17. Write a code to clear all elements from the set {1, 2, 3, 4, 5}."
      ],
      "metadata": {
        "id": "oFLTlrKe-eh6"
      }
    },
    {
      "cell_type": "code",
      "source": [
        "A = {1,2,3,4,5}\n",
        "A.clear()\n",
        "print(A)"
      ],
      "metadata": {
        "colab": {
          "base_uri": "https://localhost:8080/"
        },
        "id": "4Z6lpJhq-WAk",
        "outputId": "e4118122-e976-4ef3-ee6c-a084c7afd3a1"
      },
      "execution_count": 21,
      "outputs": [
        {
          "output_type": "stream",
          "name": "stdout",
          "text": [
            "set()\n"
          ]
        }
      ]
    },
    {
      "cell_type": "markdown",
      "source": [
        "18. Write a code to remove the element 4 from the set {1, 2, 3, 4}."
      ],
      "metadata": {
        "id": "hp_pFKj0-taq"
      }
    },
    {
      "cell_type": "code",
      "source": [
        "A = {1,2,3,4}\n",
        "A.remove(4)\n",
        "print(A)"
      ],
      "metadata": {
        "colab": {
          "base_uri": "https://localhost:8080/"
        },
        "id": "RBeCRv8G-sKq",
        "outputId": "e84c179a-eb0e-4e08-f517-d06403adb8ff"
      },
      "execution_count": 22,
      "outputs": [
        {
          "output_type": "stream",
          "name": "stdout",
          "text": [
            "{1, 2, 3}\n"
          ]
        }
      ]
    },
    {
      "cell_type": "markdown",
      "source": [
        "19. Write a code to find the union of two sets {1, 2, 3} and {3, 4, 5}."
      ],
      "metadata": {
        "id": "RiJfxQhf-zQP"
      }
    },
    {
      "cell_type": "code",
      "source": [
        "A = {1,2,3}\n",
        "B = {3,4,5}\n",
        "print(A.union(B))"
      ],
      "metadata": {
        "colab": {
          "base_uri": "https://localhost:8080/"
        },
        "id": "mMeQeMXD-yfp",
        "outputId": "2ad0e0af-6f4c-4ceb-f9aa-7aaf2f6bf1f8"
      },
      "execution_count": 23,
      "outputs": [
        {
          "output_type": "stream",
          "name": "stdout",
          "text": [
            "{1, 2, 3, 4, 5}\n"
          ]
        }
      ]
    },
    {
      "cell_type": "markdown",
      "source": [
        "20. Write a code to find the intersection of two sets {1, 2, 3} and {2, 3, 4}.\n"
      ],
      "metadata": {
        "id": "f2d4UN8t-5Uj"
      }
    },
    {
      "cell_type": "code",
      "source": [
        "A = {1, 2, 3}\n",
        "B = {2, 3, 4}\n",
        "print(A.intersection(B))"
      ],
      "metadata": {
        "colab": {
          "base_uri": "https://localhost:8080/"
        },
        "id": "vLvYQe75-4jE",
        "outputId": "675db4aa-3a86-46af-f614-5d4802f988cd"
      },
      "execution_count": 24,
      "outputs": [
        {
          "output_type": "stream",
          "name": "stdout",
          "text": [
            "{2, 3}\n"
          ]
        }
      ]
    },
    {
      "cell_type": "markdown",
      "source": [
        "21. Write a code to create a dictionary with the keys \"name\", \"age\", and \"city\", and print it."
      ],
      "metadata": {
        "id": "urfUAALJ-_66"
      }
    },
    {
      "cell_type": "code",
      "source": [
        "person= {'name': 'Roxy', 'age': 25, 'city': 'London'}\n",
        "print(person)"
      ],
      "metadata": {
        "colab": {
          "base_uri": "https://localhost:8080/"
        },
        "id": "rle2fOUO--90",
        "outputId": "dde7b7b1-8d3f-4978-f67a-32d1cf15e207"
      },
      "execution_count": 25,
      "outputs": [
        {
          "output_type": "stream",
          "name": "stdout",
          "text": [
            "{'name': 'Roxy', 'age': 25, 'city': 'London'}\n"
          ]
        }
      ]
    },
    {
      "cell_type": "markdown",
      "source": [
        "22. Write a code to add a new key-value pair \"country\": \"USA\" to the dictionary {'name': 'John', 'age': 25}."
      ],
      "metadata": {
        "id": "tN3NPuIw_JWO"
      }
    },
    {
      "cell_type": "code",
      "source": [
        "person = {'name': 'John', 'age': 25}\n",
        "person['country'] = 'USA'\n",
        "print(person)"
      ],
      "metadata": {
        "colab": {
          "base_uri": "https://localhost:8080/"
        },
        "id": "Iuwe3wjh_IUz",
        "outputId": "2b974906-a231-4f5f-93e6-883b3fe5616e"
      },
      "execution_count": 26,
      "outputs": [
        {
          "output_type": "stream",
          "name": "stdout",
          "text": [
            "{'name': 'John', 'age': 25, 'country': 'USA'}\n"
          ]
        }
      ]
    },
    {
      "cell_type": "markdown",
      "source": [
        "23. Write a code to access the value associated with the key \"name\" in the dictionary {'name': 'Alice', 'age': 30}."
      ],
      "metadata": {
        "id": "yEMc-5VW_OXY"
      }
    },
    {
      "cell_type": "code",
      "source": [
        "person = {'name': 'Alice', 'age': 30}\n",
        "print(person[\"name\"])"
      ],
      "metadata": {
        "colab": {
          "base_uri": "https://localhost:8080/"
        },
        "id": "hTc0nM_j_NhX",
        "outputId": "58e025b0-7f07-489b-d836-69175222c6b7"
      },
      "execution_count": 27,
      "outputs": [
        {
          "output_type": "stream",
          "name": "stdout",
          "text": [
            "Alice\n"
          ]
        }
      ]
    },
    {
      "cell_type": "markdown",
      "source": [
        "24. Write a code to remove the key \"age\" from the dictionary {'name': 'Bob', 'age': 22, 'city': 'New York'}."
      ],
      "metadata": {
        "id": "iz75n_re_TsN"
      }
    },
    {
      "cell_type": "code",
      "source": [
        "person = {'name': 'Bob', 'age': 22}\n",
        "del person[\"age\"]\n",
        "print(person)"
      ],
      "metadata": {
        "colab": {
          "base_uri": "https://localhost:8080/"
        },
        "id": "J4n7Aowz_SZe",
        "outputId": "7c3d26fe-8d28-4400-f9e2-eca5259cf8ba"
      },
      "execution_count": 28,
      "outputs": [
        {
          "output_type": "stream",
          "name": "stdout",
          "text": [
            "{'name': 'Bob'}\n"
          ]
        }
      ]
    },
    {
      "cell_type": "markdown",
      "source": [
        "25.  Write a code to check if the key \"city\" exists in the dictionary {'name': 'Alice', 'city': 'Paris'}"
      ],
      "metadata": {
        "id": "pmE-_A8S_aLO"
      }
    },
    {
      "cell_type": "code",
      "source": [
        "person={\"name\": \"Alice\", \"city\": \"Paris\"}\n",
        "\n",
        "\"city\" in person"
      ],
      "metadata": {
        "colab": {
          "base_uri": "https://localhost:8080/"
        },
        "id": "azuZ1DJW_ZOG",
        "outputId": "518e04ad-0185-47bc-c2e0-ce77b95df5f8"
      },
      "execution_count": 29,
      "outputs": [
        {
          "output_type": "execute_result",
          "data": {
            "text/plain": [
              "True"
            ]
          },
          "metadata": {},
          "execution_count": 29
        }
      ]
    },
    {
      "cell_type": "markdown",
      "source": [
        "26. Write a code to create a list, a tuple, and a dictionary, and print them all."
      ],
      "metadata": {
        "id": "sRh30hBV_fb1"
      }
    },
    {
      "cell_type": "code",
      "source": [
        "#List\n",
        "a = [1,2,3,4]\n",
        "#tuple\n",
        "b = (1,2,3,4)\n",
        "#dictionary\n",
        "c = {1:\"a\", 2:\"b\", 3:\"c\"}\n",
        "print(a)\n",
        "print(b)\n",
        "print(c)"
      ],
      "metadata": {
        "colab": {
          "base_uri": "https://localhost:8080/"
        },
        "id": "DpxOglir_eVn",
        "outputId": "88c60186-6aa7-465d-a8c2-547cacb9b60e"
      },
      "execution_count": 31,
      "outputs": [
        {
          "output_type": "stream",
          "name": "stdout",
          "text": [
            "[1, 2, 3, 4]\n",
            "(1, 2, 3, 4)\n",
            "{1: 'a', 2: 'b', 3: 'c'}\n"
          ]
        }
      ]
    },
    {
      "cell_type": "markdown",
      "source": [
        "27. Write a code to create a list of 5 random numbers between 1 and 100, sort it in ascending order, and print the\n",
        "result."
      ],
      "metadata": {
        "id": "bGJL_rXiAEJ1"
      }
    },
    {
      "cell_type": "code",
      "source": [
        "import random\n",
        "\n",
        "random_numbers = [random.randint(1, 100) for _ in range(5)]\n",
        "random_numbers.sort()\n",
        "print(\"Sorted random numbers:\", random_numbers)"
      ],
      "metadata": {
        "colab": {
          "base_uri": "https://localhost:8080/"
        },
        "id": "DUWGXGu5__qf",
        "outputId": "ade9834f-0830-41fa-a4aa-712ed6185566"
      },
      "execution_count": 33,
      "outputs": [
        {
          "output_type": "stream",
          "name": "stdout",
          "text": [
            "Sorted random numbers: [7, 26, 36, 62, 86]\n"
          ]
        }
      ]
    },
    {
      "cell_type": "markdown",
      "source": [
        "28. Write a code to create a list with strings and print the element at the third index."
      ],
      "metadata": {
        "id": "hX-__x8uAeAz"
      }
    },
    {
      "cell_type": "code",
      "source": [
        "a = [\"Bat\", \"Bowl\", \"wicket\"]\n",
        "print(a[2])"
      ],
      "metadata": {
        "colab": {
          "base_uri": "https://localhost:8080/"
        },
        "id": "7NjBAQfnASNq",
        "outputId": "8822b53b-81d0-4928-d74b-36664446cb39"
      },
      "execution_count": 34,
      "outputs": [
        {
          "output_type": "stream",
          "name": "stdout",
          "text": [
            "wicket\n"
          ]
        }
      ]
    },
    {
      "cell_type": "markdown",
      "source": [
        "29. Write a code to combine two dictionaries into one and print the result."
      ],
      "metadata": {
        "id": "RqitgCSzAj4j"
      }
    },
    {
      "cell_type": "code",
      "source": [
        "dict1 = {'a': 1, 'b': 2}\n",
        "dict2 = {'c': 3, 'd': 4}\n",
        "\n",
        "combined_dict = {**dict1, **dict2}\n",
        "\n",
        "print(combined_dict)"
      ],
      "metadata": {
        "colab": {
          "base_uri": "https://localhost:8080/"
        },
        "id": "gu6m4mfZAjF-",
        "outputId": "56e9eb4c-eeed-46f9-c7a1-b07bf2e07c4f"
      },
      "execution_count": 35,
      "outputs": [
        {
          "output_type": "stream",
          "name": "stdout",
          "text": [
            "{'a': 1, 'b': 2, 'c': 3, 'd': 4}\n"
          ]
        }
      ]
    },
    {
      "cell_type": "markdown",
      "source": [
        "30. Write a code to convert a list of strings into a set."
      ],
      "metadata": {
        "id": "8fSIFF_lAokk"
      }
    },
    {
      "cell_type": "code",
      "source": [
        "string_list = ['apple', 'banana', 'cherry', 'apple', 'banana']\n",
        "\n",
        "string_set = set(string_list)\n",
        "\n",
        "print(string_set)"
      ],
      "metadata": {
        "colab": {
          "base_uri": "https://localhost:8080/"
        },
        "id": "0RsW3xASAnxJ",
        "outputId": "20fd86ed-e013-4d3c-eb2c-1f25dac9b29e"
      },
      "execution_count": 36,
      "outputs": [
        {
          "output_type": "stream",
          "name": "stdout",
          "text": [
            "{'apple', 'cherry', 'banana'}\n"
          ]
        }
      ]
    },
    {
      "cell_type": "code",
      "source": [],
      "metadata": {
        "id": "HBk79PS2Ar2z"
      },
      "execution_count": null,
      "outputs": []
    }
  ]
}